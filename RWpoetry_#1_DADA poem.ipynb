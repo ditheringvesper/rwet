{
 "cells": [
  {
   "cell_type": "markdown",
   "metadata": {},
   "source": [
    "# Path\n",
    "\n",
    "By [vesper](http://www.decontextualize.com/)\n"
   ]
  },
  {
   "cell_type": "code",
   "execution_count": 1,
   "metadata": {},
   "outputs": [],
   "source": [
    "import random\n",
    "import textwrap\n"
   ]
  },
  {
   "cell_type": "code",
   "execution_count": 2,
   "metadata": {},
   "outputs": [],
   "source": [
    "direction = ['over there', 'there', 'further', 'left', 'right', 'backwards', 'up', 'back', 'down', 'clockwise', 'upstairs','through']\n",
    "site = ['main street', 'stone-paved road', 'marble wall', 'slope', 'big garden', 'station', 'forest', 'city', 'lake', 'starting point', 'park', 'museum', 'turnstile', 'tunnel', 'staircase','hills']\n",
    "time = ['now', 'for a moment', 'every ten minutes', 'an hour later', 'a couple of years later', 'sometimes', 'one second','two seconds','three seconds']\n",
    "verb = ['wait', 'see', 'look', 'stop', 'turn', 'want', 'go', 'follow', 'remember', 'close', 'pass', 'cover','walk', 'sit','watch']\n",
    "adj = ['visible', 'dark', 'luxuriant', 'outbound', 'blue', 'green', 'grey', 'red', 'silver', 'tall', 'short','narrowing','swelling', 'embarrassed', 'damped-out','crowded']\n",
    "obj = ['rain', 'smell of alcohol and grease', 'path', 'step', 'leaves', 'sunlight', 'color', 'window', 'glow', 'weeds', 'ticket','bench']\n",
    "\n",
    "\n",
    "emotion = ['lovely','intense pain','going to pass out','difficult','terrible']\n",
    "dialogue = ['what happened?','can you see it?','oh','what does it want?','no.','can you still see it?','Do you remember what it was?','everything is gone.',\"it's ok.\",'would it be ok?']\n",
    " # dialogues are full sentences\n",
    "subject = ['you','we','I','let us']\n"
   ]
  },
  {
   "cell_type": "code",
   "execution_count": 3,
   "metadata": {},
   "outputs": [
    {
     "name": "stdout",
     "output_type": "stream",
     "text": [
      "Stop clockwise.\n",
      "Sit, sometimes -\n",
      "What does it want?\n",
      "Difficult.\n",
      "Let us watch up.\n",
      " \n",
      "Staircase - green leaves.\n",
      " \n",
      "Stop up.\n",
      "You sit clockwise.\n",
      " \n",
      "Hills - visible bench.\n",
      " \n",
      "Want clockwise.\n",
      "I look through.\n",
      " \n",
      "Tunnel - embarrassed weeds.\n",
      " \n",
      "Walk clockwise.\n",
      " \n",
      "Lake - dark sunlight.\n",
      " \n",
      "Sit further.\n",
      "Difficult.\n",
      "Let us turn down.\n",
      " \n",
      "Museum - dark step.\n",
      " \n",
      "Turn up.\n",
      "Terrible.\n",
      "We go upstairs.\n",
      " \n",
      "Slope - luxuriant path.\n",
      " \n",
      "Turn down.\n",
      "Terrible.\n",
      "You go up.\n",
      " \n",
      "Museum - luxuriant leaves.\n",
      " \n",
      "Watch down.\n",
      "We turn backwards.\n",
      " \n",
      "Station - embarrassed window.\n",
      " \n",
      "Remember left.\n",
      "Go, three seconds -\n",
      "Can you see it?\n",
      "Intense pain.\n",
      "We see over there.\n",
      " \n",
      "Main street - damped-out weeds.\n",
      " \n",
      "Sit further.\n",
      "I wait over there.\n",
      " \n",
      "Main street - grey smell of alcohol and grease.\n",
      " \n"
     ]
    }
   ],
   "source": [
    "\n",
    "\n",
    "def subaction():\n",
    "    subact = random.choice(subject)\n",
    "    subact += \" \" + random.choice(verb) + \" \" + random.choice(direction) + \".\"\n",
    "    return subact.capitalize()\n",
    "\n",
    "def feeling():\n",
    "    emo = random.choice(emotion)\n",
    "    emo += \".\"\n",
    "    return emo.capitalize()\n",
    "\n",
    "def dial():\n",
    "    dia = random.choice(dialogue)\n",
    "    return dia.capitalize()\n",
    "\n",
    "def justaction():\n",
    "    v = random.choice(verb)\n",
    "    v += \" \" + random.choice(direction) + \".\"\n",
    "    return v.capitalize()\n",
    "\n",
    "\n",
    "def timespan():\n",
    "    t = random.choice(verb)\n",
    "    t += \",\"+\" \" + random.choice(time) + \" -\"\n",
    "    return t.capitalize()\n",
    "\n",
    "\n",
    "def space():\n",
    "    sp = random.choice(site)\n",
    "    adjs = random.choice(adj) \n",
    "    adjs += \" \" + random.choice(obj)\n",
    "\n",
    "    sp += \" - \" + adjs + \".\"\n",
    "    return sp.capitalize()\n",
    "\n",
    "stanza_count = 10\n",
    "for repeat in range(stanza_count):\n",
    "    line_count = random.randrange(2, 6)\n",
    "    for i in range(line_count):\n",
    "        if i == 0:\n",
    "            print(justaction())\n",
    "        elif i == line_count - 3:\n",
    "            print(feeling())\n",
    "        elif i == line_count - 2:\n",
    "            print(subaction())\n",
    "        elif i == line_count - 1:\n",
    "            print(' ')\n",
    "            print(space())\n",
    "            print(' ')\n",
    "        else:\n",
    "            print(timespan())\n",
    "            print(dial())\n"
   ]
  },
  {
   "cell_type": "code",
   "execution_count": 4,
   "metadata": {},
   "outputs": [],
   "source": []
  },
  {
   "cell_type": "code",
   "execution_count": 5,
   "metadata": {},
   "outputs": [],
   "source": []
  },
  {
   "cell_type": "code",
   "execution_count": 6,
   "metadata": {},
   "outputs": [],
   "source": []
  },
  {
   "cell_type": "code",
   "execution_count": 7,
   "metadata": {},
   "outputs": [],
   "source": []
  },
  {
   "cell_type": "code",
   "execution_count": 8,
   "metadata": {},
   "outputs": [],
   "source": []
  },
  {
   "cell_type": "code",
   "execution_count": 7,
   "metadata": {},
   "outputs": [
    {
     "name": "stdout",
     "output_type": "stream",
     "text": [
      "\n",
      "A house of weeds\n",
      "     in michigan\n",
      "          using candles\n",
      "                inhabited by people who enjoy eating together\n",
      "\n",
      "A house of brick\n",
      "     among small hills\n",
      "          using natural light\n",
      "                inhabited by friends and enemies\n",
      "\n",
      "A house of straw\n",
      "     in japan\n",
      "          using natural light\n",
      "                inhabited by collectors of all types\n",
      "\n",
      "A house of roots\n",
      "     on the sea\n",
      "          using electricity\n",
      "                inhabited by people who sleep very little\n",
      "\n",
      "A house of mud\n",
      "     in a green, mossy terrain\n",
      "          using all available lighting\n",
      "                inhabited by various birds and fish\n",
      "\n",
      "A house of tin\n",
      "     in a place with both heavy rain and bright sun\n",
      "          using candles\n",
      "                inhabited by people who love to read\n",
      "\n",
      "A house of steel\n",
      "     in a deserted airport\n",
      "          using electricity\n",
      "                inhabited by little boys\n"
     ]
    }
   ],
   "source": []
  },
  {
   "cell_type": "markdown",
   "metadata": {},
   "source": []
  },
  {
   "cell_type": "code",
   "execution_count": 1,
   "metadata": {},
   "outputs": [],
   "source": []
  },
  {
   "cell_type": "code",
   "execution_count": 9,
   "metadata": {},
   "outputs": [],
   "source": [
    "]"
   ]
  },
  {
   "cell_type": "code",
   "execution_count": 10,
   "metadata": {},
   "outputs": [],
   "source": [
    "]"
   ]
  },
  {
   "cell_type": "code",
   "execution_count": 11,
   "metadata": {},
   "outputs": [],
   "source": [
    "]"
   ]
  },
  {
   "cell_type": "code",
   "execution_count": 12,
   "metadata": {},
   "outputs": [],
   "source": []
  },
  {
   "cell_type": "code",
   "execution_count": 13,
   "metadata": {},
   "outputs": [],
   "source": [
    "]"
   ]
  },
  {
   "cell_type": "code",
   "execution_count": 14,
   "metadata": {},
   "outputs": [
    {
     "name": "stdout",
     "output_type": "stream",
     "text": [
      "Dearest Love,\n",
      "\n",
      "You are my lovesick fellow feeling. My ardour tempts your\n",
      "sympathetic affection. My lust fervently hungers for your\n",
      "unsatisfied desire. My fondness anxiously lusts after your\n",
      "fellow feeling. You are my precious yearning.\n",
      "\n",
      "Yours beautifully,\n",
      "M.U.C.\n"
     ]
    }
   ],
   "source": []
  },
  {
   "cell_type": "markdown",
   "metadata": {},
   "source": [
    "## Taroko Gorge\n",
    "\n",
    "[Original](http://nickm.com/taroko_gorge/) by [Nick Montfort](http://nickm.com/). [ELMCIP entry here](https://elmcip.net/creative-work/taroko-gorge)."
   ]
  },
  {
   "cell_type": "code",
   "execution_count": 15,
   "metadata": {},
   "outputs": [],
   "source": [
    "above = ['brow', 'mist', 'shape', 'layer', 'the crag', 'stone', 'forest', 'height']\n",
    "below = ['flow', 'basin', 'shape', 'vein', 'rippling', 'stone', 'cove', 'rock']\n",
    "transitive = ['command', 'pace', 'roam', 'trail', 'frame', 'sweep', 'exercise', 'range']\n",
    "imperative = ['track', 'shade', 'translate', 'stamp', 'progress through', 'direct', 'run', 'enter']\n",
    "intransitive = ['linger', 'dwell', 'rest', 'relax', 'hold', 'dream', 'hum']\n",
    "texture = ['rough', 'fine']\n",
    "adjectives = ['encompassing', 'sinuous', 'straight', 'objective', 'arched', 'cool', 'clear', 'dim', 'driven']"
   ]
  },
  {
   "cell_type": "code",
   "execution_count": 16,
   "metadata": {},
   "outputs": [],
   "source": [
    "def path():\n",
    "    plural = random.sample([\"s\", \"\"], k=2)\n",
    "    words = random.choice(above)\n",
    "    if words == \"forest\" and random.randrange(4) == 0:\n",
    "        words = \"monkeys\" + \" \" + random.choice(transitive)\n",
    "    else:\n",
    "        words += plural[0] + \" \" + random.choice(transitive) + plural[1]\n",
    "    words += \" the \" + random.choice(below) + random.choice([\"s\", \"\"]) + \".\"\n",
    "    return words.capitalize()"
   ]
  },
  {
   "cell_type": "code",
   "execution_count": 17,
   "metadata": {},
   "outputs": [],
   "source": [
    "def cave():\n",
    "    adjs = adjectives[:] + random.sample(texture, 1)\n",
    "    return \"  \" + random.choice(imperative) + \" \" + \\\n",
    "        \" \".join(random.sample(adjs, random.randrange(1, 4))) + \" —\""
   ]
  },
  {
   "cell_type": "code",
   "execution_count": 18,
   "metadata": {},
   "outputs": [],
   "source": [
    "def site():\n",
    "    if random.randrange(2) == 0:\n",
    "        words = random.choice(above)\n",
    "    else:\n",
    "        words = random.choice(below)\n",
    "    words += \"s \" + random.choice(intransitive) + \".\"\n",
    "    return words.capitalize()"
   ]
  },
  {
   "cell_type": "code",
   "execution_count": 19,
   "metadata": {
    "scrolled": true
   },
   "outputs": [
    {
     "name": "stdout",
     "output_type": "stream",
     "text": [
      "Layer frames the ripplings.\n",
      "Stones relax.\n",
      "Mist trails the rocks.\n",
      "\n",
      "  translate rough —\n",
      "\n",
      "Heights roam the rocks.\n",
      "Stones dream.\n",
      "Stones dream.\n",
      "Shape frames the coves.\n",
      "\n",
      "  progress through sinuous fine dim —\n",
      "\n",
      "Brows trail the shapes.\n",
      "Stone trails the flow.\n",
      "\n",
      "  run encompassing —\n",
      "\n",
      "Stones command the stones.\n",
      "Brow sweeps the stone.\n",
      "\n",
      "  progress through sinuous cool dim —\n",
      "\n",
      "Mists command the coves.\n",
      "Veins hum.\n",
      "Shapes dream.\n",
      "Shapes pace the vein.\n",
      "\n",
      "  stamp driven objective encompassing —\n",
      "\n",
      "Forests range the cove.\n",
      "Flows rest.\n",
      "Forests hold.\n",
      "Mists frame the veins.\n",
      "\n",
      "  enter driven —\n",
      "\n",
      "Height paces the flow.\n",
      "Ripplings dwell.\n",
      "Brow commands the stones.\n",
      "\n",
      "  enter fine —\n",
      "\n",
      "Brows roam the flow.\n",
      "Basins hum.\n",
      "Shape frames the veins.\n",
      "\n",
      "  progress through clear —\n",
      "\n",
      "The crag exercises the flow.\n",
      "Forests rest.\n",
      "Layer frames the flows.\n",
      "\n",
      "  translate encompassing objective sinuous —\n",
      "\n",
      "Heights sweep the coves.\n",
      "Shapes trail the stones.\n",
      "\n",
      "  stamp driven —\n",
      "\n"
     ]
    }
   ],
   "source": [
    "stanza_count = 10\n",
    "for repeat in range(stanza_count):\n",
    "    line_count = random.randrange(3, 6)\n",
    "    for i in range(line_count):\n",
    "        if i == 0:\n",
    "            print(path())\n",
    "        elif i == line_count - 2:\n",
    "            print(path())\n",
    "        elif i == line_count - 1:\n",
    "            print()\n",
    "            print(cave())\n",
    "            print()\n",
    "        else:\n",
    "            print(site())"
   ]
  }
 ],
 "metadata": {
  "kernelspec": {
   "display_name": "Python 3 (ipykernel)",
   "language": "python",
   "name": "python3"
  },
  "language_info": {
   "codemirror_mode": {
    "name": "ipython",
    "version": 3
   },
   "file_extension": ".py",
   "mimetype": "text/x-python",
   "name": "python",
   "nbconvert_exporter": "python",
   "pygments_lexer": "ipython3",
   "version": "3.9.7"
  }
 },
 "nbformat": 4,
 "nbformat_minor": 2
}
